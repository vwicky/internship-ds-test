{
 "cells": [
  {
   "cell_type": "markdown",
   "metadata": {},
   "source": [
    "# TASK 1"
   ]
  },
  {
   "cell_type": "markdown",
   "metadata": {},
   "source": [
    "In this task, you need to use a publicly available simple MNIST dataset and build 3 classification\n",
    "models around it. It should be the following models:\n",
    "1) Random Forest;\n",
    "2) Feed-Forward Neural Network;\n",
    "3) Convolutional Neural Network;\n",
    "\n",
    "Each model should be a separate class that implements MnistClassifierInterface with 2\n",
    "abstract methods - train and predict. Finally, each of your three models should be hidden under\n",
    "another MnistClassifier class. MnistClassifer takes an algorithm as an input parameter.\n",
    "Possible values for the algorithm are: cnn, rf, and nn for the three models described above."
   ]
  },
  {
   "cell_type": "markdown",
   "metadata": {},
   "source": [
    "The solution should contain:\n",
    "1) Interface for models called MnistClassifierInterface.\n",
    "2) 3 classes (1 for each model) that implement MnistClassifierInterface.\n",
    "3) MnistClassifier, which takes as an input parameter the name of the algorithm and\n",
    "provides predictions with exactly the same structure (inputs and outputs) not depending\n",
    "on the selected algorithm."
   ]
  },
  {
   "cell_type": "code",
   "execution_count": 1,
   "metadata": {},
   "outputs": [],
   "source": [
    "from abc import ABC, abstractmethod\n",
    "\n",
    "import numpy as np\n",
    "from sklearn.model_selection import train_test_split\n",
    "from sklearn import metrics\n",
    "from sklearn.datasets import fetch_openml\n",
    "\n",
    "import pandas as pd\n",
    "\n",
    "import tensorflow as tf\n",
    "\n",
    "import matplotlib.pyplot as plt\n",
    "from PIL import Image"
   ]
  },
  {
   "cell_type": "code",
   "execution_count": 2,
   "metadata": {},
   "outputs": [],
   "source": [
    "def clip_array(array) -> np.ndarray:\n",
    "  array = array.astype(int)\n",
    "  return np.clip(array, 0, 9).astype(int)"
   ]
  },
  {
   "cell_type": "code",
   "execution_count": 3,
   "metadata": {},
   "outputs": [],
   "source": [
    "class DataProviderInterface(ABC):\n",
    "  @classmethod\n",
    "  @abstractmethod\n",
    "  def provide_train() -> tuple:\n",
    "    pass\n",
    "  \n",
    "  @classmethod\n",
    "  @abstractmethod\n",
    "  def provide_test() -> tuple:\n",
    "    pass"
   ]
  },
  {
   "cell_type": "code",
   "execution_count": 4,
   "metadata": {},
   "outputs": [],
   "source": [
    "class SklearnMnistProvider(DataProviderInterface):\n",
    "  def __init__(self, test_size=0.3, random_state=42):\n",
    "    self.mnist = fetch_openml('mnist_784')\n",
    "    self.X = self.mnist.data\n",
    "    self.y = self.mnist.target\n",
    "  \n",
    "    self.X_train, self.X_test, self.y_train, self.y_test = train_test_split(\n",
    "      self.X, self.y, \n",
    "      test_size=test_size, \n",
    "      random_state=random_state\n",
    "    ) \n",
    "    self.y_train = clip_array(self.y_train)\n",
    "    self.y_test = clip_array(self.y_test)\n",
    "    \n",
    "  def provide_train(self) -> tuple:\n",
    "    return self.X_train.to_numpy(), self.y_train\n",
    "  \n",
    "  def provide_test(self) -> tuple:\n",
    "    return self.X_test.to_numpy(), self.y_test\n",
    "  \n",
    "  def provide_data_frame(self) -> pd.DataFrame:\n",
    "    ds = pd.DataFrame(self.X)\n",
    "    ds['y'] = self.y\n",
    "    return ds"
   ]
  },
  {
   "cell_type": "code",
   "execution_count": 465,
   "metadata": {},
   "outputs": [],
   "source": [
    "sklearn_provider = SklearnMnistProvider()"
   ]
  },
  {
   "cell_type": "code",
   "execution_count": 468,
   "metadata": {},
   "outputs": [
    {
     "name": "stdout",
     "output_type": "stream",
     "text": [
      "<class 'pandas.core.series.Series'>\n",
      "Index: 21000 entries, 46730 to 2571\n",
      "Series name: class\n",
      "Non-Null Count  Dtype\n",
      "--------------  -----\n",
      "21000 non-null  int32\n",
      "dtypes: int32(1)\n",
      "memory usage: 246.1 KB\n"
     ]
    }
   ],
   "source": [
    "sklearn_provider.y_test.info()"
   ]
  },
  {
   "cell_type": "code",
   "execution_count": 436,
   "metadata": {},
   "outputs": [],
   "source": [
    "class TensorflowMnistProvider(DataProviderInterface):\n",
    "  def __init__(self):\n",
    "    self.mnist = tf.keras.datasets.mnist\n",
    "    (X_train, self.y_train), (X_test, self.y_test) = self.mnist.load_data()\n",
    "    self.X_train = X_train.reshape(X_train.shape[0], -1)\n",
    "    self.X_test = X_test.reshape(X_test.shape[0], -1)\n",
    "    \n",
    "  def provide_train(self) -> tuple:\n",
    "    return self.X_train, self.y_train\n",
    "  \n",
    "  def provide_test(self) -> tuple:\n",
    "    return self.X_test, self.y_test"
   ]
  },
  {
   "cell_type": "code",
   "execution_count": 437,
   "metadata": {},
   "outputs": [],
   "source": [
    "tensorflow_provider = TensorflowMnistProvider()"
   ]
  },
  {
   "cell_type": "code",
   "execution_count": null,
   "metadata": {},
   "outputs": [],
   "source": [
    "class DataProviderManager:\n",
    "  \"\"\"\n",
    "    Small research showed that there are two libs for MNIST -- at least two libs like tf and sklearn. I couldn't really\n",
    "    choose one specific so I wrote this simple wrapper that gives you a dataset that\n",
    "    you want. Now, RF implemented with sklearn can be trained on TF dataset. \n",
    "  \"\"\"\n",
    "  @staticmethod\n",
    "  def request_sklearn():\n",
    "    return SklearnMnistProvider()\n",
    "  \n",
    "  @staticmethod\n",
    "  def request_tensorflow():\n",
    "    return TensorflowMnistProvider()\n",
    "  \n",
    "  @staticmethod\n",
    "  def request_img(src: str) -> np.ndarray:\n",
    "    \"\"\"\n",
    "      turns an image into an ndarray with length = 784. Made it to test my own\n",
    "      written digits. Keeping it fun or smth\n",
    "    \"\"\"\n",
    "    img = Image.open(fp=src)\n",
    "    img = img.resize((28, 28), Image.LANCZOS)  # best down-sizing filter\n",
    "    img = img.convert('L')  # convert the image to *greyscale*\n",
    "    img = np.array(img)\n",
    "    img = img.reshape(1, 28 * 28)\n",
    "    return img"
   ]
  },
  {
   "cell_type": "code",
   "execution_count": 439,
   "metadata": {},
   "outputs": [],
   "source": [
    "class MnistClassifierInterface(ABC):\n",
    "  @classmethod\n",
    "  @abstractmethod\n",
    "  def train() -> None:\n",
    "    pass\n",
    "  \n",
    "  @classmethod\n",
    "  @abstractmethod\n",
    "  def predict() -> None:\n",
    "    pass"
   ]
  },
  {
   "cell_type": "markdown",
   "metadata": {},
   "source": [
    "### random forest (sklearn)"
   ]
  },
  {
   "cell_type": "code",
   "execution_count": 605,
   "metadata": {},
   "outputs": [],
   "source": [
    "from sklearn.ensemble import RandomForestClassifier\n",
    "\n",
    "class RandomForestMnist(MnistClassifierInterface):  \n",
    "  def __init__(self, n_estimators = 100, criterion='entropy', max_depth=20):\n",
    "    self.model = RandomForestClassifier(n_estimators=n_estimators, criterion=criterion, max_depth=max_depth)\n",
    "  \n",
    "  def train(self, X_train, y_train) -> None:\n",
    "    self.model.fit(X_train, y_train)\n",
    "    print(\"> training ended\")\n",
    "  \n",
    "  def predict(self, X_test) -> np.ndarray:\n",
    "    y_pred = self.model.predict(X_test)\n",
    "    return y_pred\n",
    "  \n",
    "  def evaluate(self, X_test, y_test) -> None:\n",
    "    y_pred = self.model.predict(X_test)\n",
    "    print(metrics.classification_report(y_test, y_pred))"
   ]
  },
  {
   "cell_type": "code",
   "execution_count": 441,
   "metadata": {},
   "outputs": [
    {
     "name": "stdout",
     "output_type": "stream",
     "text": [
      "> training ended\n",
      "              precision    recall  f1-score   support\n",
      "\n",
      "           0       0.97      0.99      0.98       980\n",
      "           1       0.99      0.99      0.99      1135\n",
      "           2       0.96      0.96      0.96      1032\n",
      "           3       0.96      0.97      0.96      1010\n",
      "           4       0.97      0.97      0.97       982\n",
      "           5       0.96      0.96      0.96       892\n",
      "           6       0.97      0.97      0.97       958\n",
      "           7       0.97      0.96      0.97      1028\n",
      "           8       0.96      0.95      0.96       974\n",
      "           9       0.96      0.95      0.95      1009\n",
      "\n",
      "    accuracy                           0.97     10000\n",
      "   macro avg       0.97      0.97      0.97     10000\n",
      "weighted avg       0.97      0.97      0.97     10000\n",
      "\n"
     ]
    }
   ],
   "source": [
    "# testing Random Forest here\n",
    "\n",
    "# preparing data\n",
    "sklearn_mnist = DataProviderManager.request_sklearn()\n",
    "tensorflow_mnist = DataProviderManager.request_tensorflow()\n",
    "\n",
    "X_train, y_train = tensorflow_mnist.provide_train()\n",
    "X_test, y_test = tensorflow_mnist.provide_test() \n",
    "\n",
    "# setting-up the model\n",
    "rf_model = RandomForestMnist()\n",
    "rf_model.train(X_train, y_train)\n",
    "rf_model.evaluate(X_test, y_test)"
   ]
  },
  {
   "cell_type": "code",
   "execution_count": 442,
   "metadata": {},
   "outputs": [
    {
     "name": "stdout",
     "output_type": "stream",
     "text": [
      "Expected: ['4']\n",
      "Got: [4]\n"
     ]
    }
   ],
   "source": [
    "# what about digits written by me🤔\n",
    "my_img = DataProviderManager.request_img(src='data/my_digit_4.png')\n",
    "y_pred, y_true = rf_model.predict(my_img), ['4']\n",
    "print(f\"Expected: {y_true}\\nGot: {y_pred}\")"
   ]
  },
  {
   "cell_type": "markdown",
   "metadata": {},
   "source": [
    "### feed-forward nn (tf)"
   ]
  },
  {
   "cell_type": "code",
   "execution_count": 606,
   "metadata": {},
   "outputs": [],
   "source": [
    "class FeedForwardNNMnist(MnistClassifierInterface):\n",
    "  def __init__(self):\n",
    "    self.model = tf.keras.Sequential([\n",
    "        tf.keras.layers.Dense(units=64, activation='relu',\n",
    "                              input_shape=[784]),\n",
    "        tf.keras.layers.Dense(units=64, activation='relu'),\n",
    "        tf.keras.layers.Dense(units=1)\n",
    "    ])\n",
    "    self.model.summary()\n",
    "    self.model.compile(optimizer='adam', loss='mae')  \n",
    "  \n",
    "  def train(self, X_train, y_train) -> None:\n",
    "    self.model.fit(\n",
    "      X_train, y_train,\n",
    "      # validation_data=(X_test, y_test),\n",
    "      batch_size=256, \n",
    "      epochs=20,  \n",
    "    )\n",
    "    print(\"> training ended\")\n",
    "  \n",
    "  def predict(self, X_test) -> np.ndarray:\n",
    "    y_pred = self.model.predict(X_test)\n",
    "    y_pred = clip_array(y_pred)\n",
    "    return y_pred\n",
    "  \n",
    "  def evaluate(self, X_test, y_test) -> None:\n",
    "    y_pred = self.predict(X_test)\n",
    "    print(metrics.classification_report(y_test, y_pred, zero_division=np.nan))"
   ]
  },
  {
   "cell_type": "markdown",
   "metadata": {},
   "source": [
    "### convolutional nn (tf)"
   ]
  },
  {
   "cell_type": "code",
   "execution_count": 607,
   "metadata": {},
   "outputs": [],
   "source": [
    "class ConvolutionalNNMnist(MnistClassifierInterface):\n",
    "  def __init__(self):\n",
    "    self.model = tf.keras.models.Sequential([\n",
    "      tf.keras.layers.Conv2D(32, kernel_size=(3, 3), input_shape=[28, 28, 1]),\n",
    "      tf.keras.layers.MaxPooling2D(pool_size=(2, 2)),\n",
    "      \n",
    "      tf.keras.layers.Conv2D(48, kernel_size=(3, 3)),\n",
    "      tf.keras.layers.MaxPooling2D(pool_size=(2, 2)),\n",
    "      \n",
    "      tf.keras.layers.Flatten(),\n",
    "      tf.keras.layers.Dense(64, activation='relu'),\n",
    "      tf.keras.layers.Dense(units=1),\n",
    "    ])\n",
    "    self.model.summary()\n",
    "    self.model.compile(\n",
    "      loss=\"mae\",\n",
    "      optimizer=\"adam\",\n",
    "    )\n",
    "  \n",
    "  def train(self, X_train, y_train) -> None:\n",
    "    X_train = X_train.reshape(X_train.shape[0], 28, 28, 1)\n",
    "    self.model.fit(X_train, y_train, batch_size=256, epochs=3)\n",
    "    print(\"> training ended\")\n",
    "  \n",
    "  def predict(self, X_test) -> np.ndarray:\n",
    "    X_test = X_test.reshape(X_test.shape[0], 28, 28, 1)\n",
    "    y_pred = self.model.predict(X_test)\n",
    "    y_pred = clip_array(y_pred)\n",
    "    return y_pred\n",
    "  \n",
    "  def evaluate(self, X_test, y_test) -> None:\n",
    "    X_test = X_test.reshape(X_test.shape[0], 28, 28, 1)\n",
    "    y_pred = self.predict(X_test)\n",
    "    print(metrics.classification_report(y_test, y_pred, zero_division=np.nan))"
   ]
  },
  {
   "cell_type": "code",
   "execution_count": 608,
   "metadata": {},
   "outputs": [],
   "source": [
    "class MnistClassifier:\n",
    "  model_map = {\n",
    "    'cnn': ConvolutionalNNMnist,\n",
    "    'nn': FeedForwardNNMnist,\n",
    "    'rf': RandomForestMnist,\n",
    "  }\n",
    "  data_map = {\n",
    "    'tensorflow': DataProviderManager.request_tensorflow,\n",
    "    'sklearn': DataProviderManager.request_sklearn,\n",
    "  }\n",
    "  def __init__(self, algorithm: str, provider: str):\n",
    "    self.model = self.model_map.get(algorithm)()\n",
    "    self.data_provider = self.data_map.get(provider)()\n",
    "    \n",
    "  def train(self) -> None:\n",
    "    X_train, y_train = self.data_provider.provide_train()\n",
    "    self.model.train(X_train, y_train)\n",
    "    \n",
    "  def predict(self) -> None:\n",
    "    X_test, y_test = self.data_provider.provide_test()\n",
    "    self.model.evaluate(X_test, y_test)"
   ]
  },
  {
   "cell_type": "markdown",
   "metadata": {},
   "source": [
    "## checking MnistClassifier"
   ]
  },
  {
   "cell_type": "code",
   "execution_count": 609,
   "metadata": {},
   "outputs": [
    {
     "name": "stdout",
     "output_type": "stream",
     "text": [
      "Model: \"sequential_82\"\n",
      "_________________________________________________________________\n",
      " Layer (type)                Output Shape              Param #   \n",
      "=================================================================\n",
      " conv2d_86 (Conv2D)          (None, 26, 26, 32)        320       \n",
      "                                                                 \n",
      " max_pooling2d_86 (MaxPoolin  (None, 13, 13, 32)       0         \n",
      " g2D)                                                            \n",
      "                                                                 \n",
      " conv2d_87 (Conv2D)          (None, 11, 11, 48)        13872     \n",
      "                                                                 \n",
      " max_pooling2d_87 (MaxPoolin  (None, 5, 5, 48)         0         \n",
      " g2D)                                                            \n",
      "                                                                 \n",
      " flatten_43 (Flatten)        (None, 1200)              0         \n",
      "                                                                 \n",
      " dense_203 (Dense)           (None, 64)                76864     \n",
      "                                                                 \n",
      " dense_204 (Dense)           (None, 1)                 65        \n",
      "                                                                 \n",
      "=================================================================\n",
      "Total params: 91,121\n",
      "Trainable params: 91,121\n",
      "Non-trainable params: 0\n",
      "_________________________________________________________________\n"
     ]
    }
   ],
   "source": [
    "mnist_classifier = MnistClassifier(algorithm='cnn', provider='sklearn')"
   ]
  },
  {
   "cell_type": "code",
   "execution_count": 610,
   "metadata": {},
   "outputs": [
    {
     "name": "stdout",
     "output_type": "stream",
     "text": [
      "Epoch 1/3\n",
      "192/192 [==============================] - 12s 55ms/step - loss: 2.8055\n",
      "Epoch 2/3\n",
      "192/192 [==============================] - 10s 53ms/step - loss: 0.8368\n",
      "Epoch 3/3\n",
      "192/192 [==============================] - 11s 55ms/step - loss: 0.7176\n",
      "> training ended\n"
     ]
    }
   ],
   "source": [
    "mnist_classifier.train()"
   ]
  },
  {
   "cell_type": "code",
   "execution_count": 611,
   "metadata": {},
   "outputs": [
    {
     "name": "stdout",
     "output_type": "stream",
     "text": [
      "657/657 [==============================] - 3s 4ms/step\n",
      "              precision    recall  f1-score   support\n",
      "\n",
      "           0       0.65      0.87      0.74      2058\n",
      "           1       0.51      0.58      0.54      2364\n",
      "           2       0.37      0.40      0.39      2133\n",
      "           3       0.29      0.36      0.32      2176\n",
      "           4       0.24      0.30      0.27      1936\n",
      "           5       0.17      0.24      0.20      1915\n",
      "           6       0.12      0.13      0.13      2088\n",
      "           7       0.34      0.23      0.27      2248\n",
      "           8       0.22      0.14      0.17      1992\n",
      "           9       0.87      0.17      0.29      2090\n",
      "\n",
      "    accuracy                           0.35     21000\n",
      "   macro avg       0.38      0.34      0.33     21000\n",
      "weighted avg       0.38      0.35      0.34     21000\n",
      "\n"
     ]
    }
   ],
   "source": [
    "mnist_classifier.predict()"
   ]
  }
 ],
 "metadata": {
  "kernelspec": {
   "display_name": "Python 3",
   "language": "python",
   "name": "python3"
  },
  "language_info": {
   "codemirror_mode": {
    "name": "ipython",
    "version": 3
   },
   "file_extension": ".py",
   "mimetype": "text/x-python",
   "name": "python",
   "nbconvert_exporter": "python",
   "pygments_lexer": "ipython3",
   "version": "3.11.3"
  }
 },
 "nbformat": 4,
 "nbformat_minor": 2
}
