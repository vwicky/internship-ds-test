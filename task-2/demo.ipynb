{
 "cells": [
  {
   "cell_type": "markdown",
   "metadata": {},
   "source": [
    "# TASK 2"
   ]
  },
  {
   "cell_type": "markdown",
   "metadata": {},
   "source": [
    "In this task, you will work on building your ML pipeline that consists of 2 models responsible for\n",
    "totally different tasks. The main goal is to understand what the user is asking (NLP) and check if\n",
    "he is correct or not (Computer Vision).\n",
    "\n",
    "You will need to:\n",
    "1) find or collect an animal classification/detection dataset that contains at least 10\n",
    "classes of animals.\n",
    "2) train NER model for extracting animal titles from the text. Please use some\n",
    "transformer-based model (not LLM).\n",
    "3) Train the animal classification model on your dataset.\n",
    "4) Build a pipeline that takes as inputs the text message and the image."
   ]
  },
  {
   "cell_type": "markdown",
   "metadata": {},
   "source": [
    "In general, the flow should be the following:\n",
    "1. The user provides a text similar to “There is a cow in the picture.” and an image that\n",
    "contains any animal.\n",
    "2. Your pipeline should decide if it is true or not and provide a boolean value as the output.\n",
    "You should take care that the text input will not be the same as in the example, and the\n",
    "user can ask it in a different way.\n"
   ]
  },
  {
   "cell_type": "markdown",
   "metadata": {},
   "source": [
    "The solution should contain:\n",
    "● Jupyter notebook with exploratory data analysis of your dataset;\n",
    "● Parametrized train and inference .py files for the NER model;\n",
    "● Parametrized train and inference .py files for the Image Classification model;\n",
    "● Python script for the entire pipeline that takes 2 inputs (text and image) and provides\n",
    "1 boolean value as an output;"
   ]
  },
  {
   "cell_type": "code",
   "execution_count": 1,
   "metadata": {},
   "outputs": [
    {
     "name": "stderr",
     "output_type": "stream",
     "text": [
      "c:\\Users\\Omen\\AppData\\Local\\Programs\\Python\\Python311\\Lib\\site-packages\\cupy\\_environment.py:217: UserWarning: CUDA path could not be detected. Set CUDA_PATH environment variable if CuPy fails to load.\n",
      "  warnings.warn(\n"
     ]
    }
   ],
   "source": [
    "import spacy\n",
    "\n",
    "import tensorflow as tf"
   ]
  },
  {
   "cell_type": "code",
   "execution_count": 2,
   "metadata": {},
   "outputs": [],
   "source": [
    "from abc import ABC, abstractmethod\n",
    "import pathlib"
   ]
  },
  {
   "cell_type": "code",
   "execution_count": null,
   "metadata": {},
   "outputs": [],
   "source": [
    "NER_MODEL_PATH = 'models/custom_ner_model'\n",
    "CLASSIFICATION_MODEL_PATH = 'models/classification_model.keras'"
   ]
  },
  {
   "cell_type": "code",
   "execution_count": 4,
   "metadata": {},
   "outputs": [],
   "source": [
    "class CustomModelInterface(ABC):\n",
    "  @classmethod\n",
    "  @abstractmethod\n",
    "  def fit():\n",
    "    pass\n",
    "  \n",
    "  @classmethod\n",
    "  @abstractmethod\n",
    "  def predict():\n",
    "    pass"
   ]
  },
  {
   "cell_type": "code",
   "execution_count": 5,
   "metadata": {},
   "outputs": [],
   "source": [
    "class NERCustomModel(CustomModelInterface):\n",
    "  def __init__(self, model_path = NER_MODEL_PATH):\n",
    "    self.nlp = spacy.load(model_path)\n",
    "  \n",
    "  def fit(self):\n",
    "    raise NotImplementedError()\n",
    "  def predict(self, text):\n",
    "    return self.nlp(text).ents"
   ]
  },
  {
   "cell_type": "code",
   "execution_count": 6,
   "metadata": {},
   "outputs": [],
   "source": [
    "class ImageHandler:\n",
    "  img_height, img_width = 252, 320 # got from the notebook\n",
    "  \n",
    "  @staticmethod\n",
    "  def prepare(img_path):\n",
    "    new_img_path = pathlib.Path(img_path)\n",
    "\n",
    "    img = tf.keras.utils.load_img(\n",
    "        new_img_path, \n",
    "        target_size=(ImageHandler.img_height, ImageHandler.img_width)\n",
    "    )\n",
    "    img_array = tf.keras.utils.img_to_array(img)\n",
    "    img_array = tf.expand_dims(img_array, 0) # Create a batch\n",
    "    return img_array"
   ]
  },
  {
   "cell_type": "code",
   "execution_count": null,
   "metadata": {},
   "outputs": [],
   "source": [
    "# I know they tried to make it easier for us fellow user but not including all names really wasn't obligatory\n",
    "from data.translate import translate\n",
    "# import importlib\n",
    "# imported_module = importlib.import_module(\"data.translate\")\n",
    "# importlib.reload(imported_module)\n",
    "\n",
    "class ClassificationCustomModel(CustomModelInterface):\n",
    "  class_names = ['cane', 'cavallo', 'elefante', 'farfalla', 'gallina', 'gatto', 'mucca', 'pecora', 'ragno', 'scoiattolo']\n",
    "  translation = translate\n",
    "  \n",
    "  def __init__(self, model_path = CLASSIFICATION_MODEL_PATH):\n",
    "    self.model = tf.keras.models.load_model(model_path)\n",
    "  \n",
    "  def fit(self):\n",
    "    raise NotImplementedError()\n",
    "  def predict(self, img_path, num_of_examples=3) -> list:\n",
    "    img_array = ImageHandler.prepare(img_path)\n",
    "    \n",
    "    predictions = self.model.predict(img_array)\n",
    "    score = tf.nn.softmax(predictions[0])\n",
    "\n",
    "    most_prob = ClassificationCustomModel.most_probable(score, num_of_examples)\n",
    "    return most_prob\n",
    "  \n",
    "  @staticmethod\n",
    "  def most_probable(score, num_of_units = 2) -> list:\n",
    "    score = score.numpy()\n",
    "    ranks = [(ClassificationCustomModel.translation.get(n), int(s * 100)) for n, s in zip(ClassificationCustomModel.class_names, score)]\n",
    "    ranks.sort(key=lambda x: x[1], reverse=True)\n",
    "    return ranks[:num_of_units]"
   ]
  },
  {
   "cell_type": "code",
   "execution_count": 8,
   "metadata": {},
   "outputs": [
    {
     "name": "stderr",
     "output_type": "stream",
     "text": [
      "c:\\Users\\Omen\\AppData\\Local\\Programs\\Python\\Python311\\Lib\\site-packages\\tqdm\\auto.py:21: TqdmWarning: IProgress not found. Please update jupyter and ipywidgets. See https://ipywidgets.readthedocs.io/en/stable/user_install.html\n",
      "  from .autonotebook import tqdm as notebook_tqdm\n"
     ]
    }
   ],
   "source": [
    "ner_model = NERCustomModel()"
   ]
  },
  {
   "cell_type": "code",
   "execution_count": 9,
   "metadata": {},
   "outputs": [
    {
     "data": {
      "text/plain": [
       "'cat'"
      ]
     },
     "execution_count": 9,
     "metadata": {},
     "output_type": "execute_result"
    }
   ],
   "source": [
    "res = ner_model.predict(\"This is a cat\")\n",
    "res[0].__str__()"
   ]
  },
  {
   "cell_type": "code",
   "execution_count": 10,
   "metadata": {},
   "outputs": [],
   "source": [
    "class ResultWrapper:\n",
    "  def __init__(self, res_list):\n",
    "    self.res = res_list\n",
    "    \n",
    "  def __str__(self):\n",
    "    return '\\n'.join(f\"> {res[0][0]}, {res[0][1]}% - {'✔' if res[1] else '❌'}\" for res in self.res)"
   ]
  },
  {
   "cell_type": "code",
   "execution_count": 11,
   "metadata": {},
   "outputs": [],
   "source": [
    "class CustomPipeline:\n",
    "  def __init__(self, ner_model = None, classification_model = None):\n",
    "    self.ner_model = ner_model or NERCustomModel()\n",
    "    self.classification_model = classification_model or ClassificationCustomModel()\n",
    "    \n",
    "  def predict(self, img_path, text, num_probable_guesses=1) -> bool:\n",
    "    ner_result = self.ner_model.predict(text)\n",
    "    print(ner_result)\n",
    "    \n",
    "    if len(ner_result) <= 0:\n",
    "      raise LookupError(\"Couldn't detect animal names\")\n",
    "    \n",
    "    ner_result = ner_result[0].__str__()\n",
    "    classification_result = self.classification_model.predict(img_path, num_of_examples=num_probable_guesses)\n",
    "    \n",
    "    result = [(res, res[0] == ner_result) for res in classification_result]\n",
    "    result_bool = result[0][0][0] == ner_result\n",
    "    print(f\"ner_result - {ner_result}, res {result[0][0]}\")\n",
    "    print(ResultWrapper(result))\n",
    "    return result_bool\n",
    "  "
   ]
  },
  {
   "cell_type": "code",
   "execution_count": 12,
   "metadata": {},
   "outputs": [],
   "source": [
    "pipe = CustomPipeline(\n",
    "  #ner_model=NERCustomModel(),\n",
    "  #classification_model=ClassificationCustomModel(),\n",
    ")"
   ]
  },
  {
   "cell_type": "code",
   "execution_count": 14,
   "metadata": {},
   "outputs": [
    {
     "name": "stdout",
     "output_type": "stream",
     "text": [
      "(butterfly,)\n",
      "1/1 [==============================] - 0s 48ms/step\n",
      "ner_result - butterfly, res ('butterfly', 99)\n",
      "> butterfly, 99% - ✔\n",
      "(cat,)\n",
      "1/1 [==============================] - 0s 52ms/step\n",
      "ner_result - cat, res ('sheep', 20)\n",
      "> sheep, 20% - ❌\n",
      "(chicken,)\n",
      "1/1 [==============================] - 0s 52ms/step\n",
      "ner_result - chicken, res ('chicken', 99)\n",
      "> chicken, 99% - ✔\n",
      "(cow,)\n",
      "1/1 [==============================] - 0s 40ms/step\n",
      "ner_result - cow, res ('cow', 53)\n",
      "> cow, 53% - ✔\n",
      "(dog,)\n",
      "1/1 [==============================] - 0s 24ms/step\n",
      "ner_result - dog, res ('dog', 47)\n",
      "> dog, 47% - ✔\n"
     ]
    }
   ],
   "source": [
    "animals_path = pathlib.Path('./data/animals_test_img')\n",
    "for pic in animals_path.glob('*.jpeg'):\n",
    "  name = pic.name.split('.')[0]\n",
    "  \n",
    "  res = pipe.predict(img_path=pic, text=f\"this is {name}\", num_probable_guesses=1)"
   ]
  },
  {
   "cell_type": "markdown",
   "metadata": {},
   "source": [
    "my god, I have been training and retraining this model for three days and it finally produces more or less fine results.\n",
    "It isn't perfect but it works. Additional data analyses won't hurt but I may retrain the model anytime so I guess I'll focus on the rest of the stuff to implement. I am sooo happy it works though"
   ]
  },
  {
   "cell_type": "code",
   "execution_count": null,
   "metadata": {},
   "outputs": [
    {
     "name": "stdout",
     "output_type": "stream",
     "text": [
      "(dog,)\n",
      "1/1 [==============================] - 0s 31ms/step\n",
      "ner_result - dog, res ('dog', 60)\n",
      "> dog, 60% - ✔\n",
      "> sheep, 15% - ❌\n",
      "> cow, 9% - ❌\n",
      "True\n"
     ]
    }
   ],
   "source": [
    "res = pipe.predict(\n",
    "  img_path='./data/animals_test_img/doggy.jpeg',\n",
    "  text=\"this is a dog\",\n",
    "  num_probable_guesses=3\n",
    ")\n",
    "print(res)"
   ]
  }
 ],
 "metadata": {
  "kernelspec": {
   "display_name": "Python 3",
   "language": "python",
   "name": "python3"
  },
  "language_info": {
   "codemirror_mode": {
    "name": "ipython",
    "version": 3
   },
   "file_extension": ".py",
   "mimetype": "text/x-python",
   "name": "python",
   "nbconvert_exporter": "python",
   "pygments_lexer": "ipython3",
   "version": "3.11.3"
  }
 },
 "nbformat": 4,
 "nbformat_minor": 2
}
