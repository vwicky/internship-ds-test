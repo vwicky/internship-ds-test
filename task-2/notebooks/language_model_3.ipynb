{
 "cells": [
  {
   "cell_type": "code",
   "execution_count": 1,
   "metadata": {},
   "outputs": [
    {
     "name": "stderr",
     "output_type": "stream",
     "text": [
      "c:\\Users\\Omen\\AppData\\Local\\Programs\\Python\\Python311\\Lib\\site-packages\\cupy\\_environment.py:217: UserWarning: CUDA path could not be detected. Set CUDA_PATH environment variable if CuPy fails to load.\n",
      "  warnings.warn(\n"
     ]
    }
   ],
   "source": [
    "import spacy\n",
    "from spacy.util import minibatch\n",
    "from spacy.training.example import Example\n",
    "\n",
    "import spacy_lookups_data  # Ensure this package is loaded\n",
    "from spacy.lookups import Lookups\n",
    "\n",
    "import random"
   ]
  },
  {
   "cell_type": "code",
   "execution_count": 2,
   "metadata": {},
   "outputs": [],
   "source": [
    "\n",
    "#GPT-generated data\n",
    "train_data = [\n",
    "    # More animal examples\n",
    "    (\"This is a rabbit.\", {\"entities\": [(10, 16, \"ANIMAL\")]}),\n",
    "    (\"A horse is shown in the image.\", {\"entities\": [(2, 7, \"ANIMAL\")]}),\n",
    "    (\"The dog is depicted here.\", {\"entities\": [(4, 7, \"ANIMAL\")]}),\n",
    "    (\"You can see a parrot.\", {\"entities\": [(14, 20, \"ANIMAL\")]}),\n",
    "    (\"This image contains a bear.\", {\"entities\": [(21, 25, \"ANIMAL\")]}),\n",
    "    (\"Here we have a wolf.\", {\"entities\": [(15, 19, \"ANIMAL\")]}),\n",
    "    (\"A cow is visible in the picture.\", {\"entities\": [(2, 5, \"ANIMAL\")]}),\n",
    "    (\"Look at the deer in this photo.\", {\"entities\": [(11, 15, \"ANIMAL\")]}),\n",
    "    (\"The dolphin is featured here.\", {\"entities\": [(4, 11, \"ANIMAL\")]}),\n",
    "    (\"This picture has a peacock.\", {\"entities\": [(20, 27, \"ANIMAL\")]}),\n",
    "    (\"A lion is shown in this image.\", {\"entities\": [(2, 6, \"ANIMAL\")]}),\n",
    "    (\"This is an owl.\", {\"entities\": [(10, 13, \"ANIMAL\")]}),\n",
    "    (\"A monkey can be seen here.\", {\"entities\": [(2, 8, \"ANIMAL\")]}),\n",
    "    (\"This photo depicts a kangaroo.\", {\"entities\": [(20, 27, \"ANIMAL\")]}),\n",
    "    (\"There is a turtle in the drawing.\", {\"entities\": [(11, 17, \"ANIMAL\")]}),\n",
    "    (\"A butterfly is illustrated.\", {\"entities\": [(2, 11, \"ANIMAL\")]}),\n",
    "    (\"The snake is drawn on the wall.\", {\"entities\": [(4, 9, \"ANIMAL\")]}),\n",
    "    (\"An eagle is featured in this sketch.\", {\"entities\": [(3, 8, \"ANIMAL\")]}),\n",
    "    (\"Here is an elephant.\", {\"entities\": [(11, 19, \"ANIMAL\")]}),\n",
    "    (\"The flamingo appears in the artwork.\", {\"entities\": [(4, 12, \"ANIMAL\")]}),\n",
    "    (\"The dog is happy.\", {\"entities\": [(4, 7, \"ANIMAL\")]}),\n",
    "    (\"A horse runs fast.\", {\"entities\": [(2, 7, \"ANIMAL\")]}),\n",
    "    (\"The elephant is big.\", {\"entities\": [(4, 12, \"ANIMAL\")]}),\n",
    "    (\"This butterfly is colorful.\", {\"entities\": [(5, 14, \"ANIMAL\")]}),\n",
    "    (\"The chicken is small.\", {\"entities\": [(4, 11, \"ANIMAL\")]}),\n",
    "    (\"My cat is sleeping.\", {\"entities\": [(3, 6, \"ANIMAL\")]}),\n",
    "    (\"There is a cat depicted in this picture.\", {\"entities\": [(11, 14, \"ANIMAL\")]}),\n",
    "    (\"A parrot is depicted in this image.\", {\"entities\": [(2, 8, \"ANIMAL\")]}),\n",
    "    (\"There is a lion shown in this picture.\", {\"entities\": [(11, 15, \"ANIMAL\")]}),\n",
    "    (\"You can see a wolf depicted here.\", {\"entities\": [(14, 18, \"ANIMAL\")]}),\n",
    "    (\"An eagle is illustrated in this sketch.\", {\"entities\": [(3, 8, \"ANIMAL\")]}),\n",
    "    (\"There is a turtle drawn in this image.\", {\"entities\": [(11, 17, \"ANIMAL\")]}),\n",
    "    (\"A deer is presented in this photograph.\", {\"entities\": [(2, 6, \"ANIMAL\")]}),\n",
    "    (\"A kangaroo is shown in the illustration.\", {\"entities\": [(2, 9, \"ANIMAL\")]}),\n",
    "    (\"There is a dolphin featured in this drawing.\", {\"entities\": [(11, 18, \"ANIMAL\")]}),\n",
    "    (\"A bear is depicted in this picture.\", {\"entities\": [(2, 6, \"ANIMAL\")]}),\n",
    "    (\"There is a peacock illustrated here.\", {\"entities\": [(11, 18, \"ANIMAL\")]}),\n",
    "    (\"A flamingo is presented in this artwork.\", {\"entities\": [(2, 10, \"ANIMAL\")]}),\n",
    "    (\"There is a horse depicted in the image.\", {\"entities\": [(11, 16, \"ANIMAL\")]}),\n",
    "    (\"A monkey is illustrated in this sketch.\", {\"entities\": [(2, 8, \"ANIMAL\")]}),\n",
    "    (\"An owl is shown in this picture.\", {\"entities\": [(3, 6, \"ANIMAL\")]}),\n",
    "    (\"There is a cow presented in this image.\", {\"entities\": [(11, 14, \"ANIMAL\")]}),\n",
    "    (\"A butterfly is drawn in this picture.\", {\"entities\": [(2, 11, \"ANIMAL\")]}),\n",
    "    (\"There is a snake featured in this sketch.\", {\"entities\": [(11, 16, \"ANIMAL\")]}),\n",
    "    (\"An elephant is depicted in this artwork.\", {\"entities\": [(3, 11, \"ANIMAL\")]}),\n",
    "    (\"There is a chicken shown in this image.\", {\"entities\": [(11, 18, \"ANIMAL\")]}),\n",
    "    (\"A dog is illustrated in this drawing.\", {\"entities\": [(2, 5, \"ANIMAL\")]}),\n",
    "    (\"There is a horse presented in this photo.\", {\"entities\": [(11, 16, \"ANIMAL\")]}),\n",
    "    (\"A dolphin is drawn in this picture.\", {\"entities\": [(2, 9, \"ANIMAL\")]}),\n",
    "    (\"There is a flamingo illustrated here.\", {\"entities\": [(11, 19, \"ANIMAL\")]}),\n",
    "    (\"A cat is depicted in this artwork.\", {\"entities\": [(2, 5, \"ANIMAL\")]}),\n",
    "    (\"There is an owl shown in this image.\", {\"entities\": [(11, 14, \"ANIMAL\")]}),\n",
    "    (\"A parrot is presented in this sketch.\", {\"entities\": [(2, 8, \"ANIMAL\")]}),\n",
    "    (\"There is a bear illustrated in this drawing.\", {\"entities\": [(11, 15, \"ANIMAL\")]}),\n",
    "    (\"A peacock is featured in this artwork.\", {\"entities\": [(2, 9, \"ANIMAL\")]}),\n",
    "    (\"There is a lion depicted in this photograph.\", {\"entities\": [(11, 15, \"ANIMAL\")]}),(\"A chicken is depicted in this picture.\", {\"entities\": [(2, 9, \"ANIMAL\")]}),\n",
    "    (\"There is a chicken illustrated here.\", {\"entities\": [(11, 18, \"ANIMAL\")]}),\n",
    "    (\"A chicken is presented in this artwork.\", {\"entities\": [(2, 9, \"ANIMAL\")]}),\n",
    "    (\"There is a chicken depicted in the image.\", {\"entities\": [(11, 18, \"ANIMAL\")]}),\n",
    "    (\"A chicken is illustrated in this sketch.\", {\"entities\": [(2, 9, \"ANIMAL\")]}),\n",
    "    (\"An image features a chicken.\", {\"entities\": [(19, 26, \"ANIMAL\")]}),\n",
    "    (\"A drawing of a chicken is shown here.\", {\"entities\": [(13, 20, \"ANIMAL\")]}),\n",
    "    (\"A deer is drawn in this picture.\", {\"entities\": [(2, 6, \"ANIMAL\")]}),\n",
    "    (\"There is a kangaroo shown in this image.\", {\"entities\": [(11, 18, \"ANIMAL\")]}),\n",
    "    (\"A monkey is depicted in this illustration.\", {\"entities\": [(2, 8, \"ANIMAL\")]}),\n",
    "    (\"There is a snake presented in this photo.\", {\"entities\": [(11, 16, \"ANIMAL\")]}),\n",
    "    (\"A butterfly is illustrated in this sketch.\", {\"entities\": [(2, 11, \"ANIMAL\")]}),\n",
    "    (\"There is an elephant drawn in this artwork.\", {\"entities\": [(11, 19, \"ANIMAL\")]}),\n",
    "    (\"A turtle is shown in this image.\", {\"entities\": [(2, 8, \"ANIMAL\")]}),\n",
    "    (\"There is a cow depicted in this picture.\", {\"entities\": [(11, 14, \"ANIMAL\")]}),\n",
    "    (\"A chicken is presented in this photograph.\", {\"entities\": [(2, 9, \"ANIMAL\")]}),\n",
    "\n",
    "    (\"The cow eats grass.\", {\"entities\": [(4, 7, \"ANIMAL\")]}),\n",
    "    (\"Sheep are fluffy.\", {\"entities\": [(0, 5, \"ANIMAL\")]}),\n",
    "    (\"The spider is tiny.\", {\"entities\": [(4, 10, \"ANIMAL\")]}),\n",
    "    (\"A squirrel climbs trees.\", {\"entities\": [(2, 10, \"ANIMAL\")]}),\n",
    "    (\"The dog barks loudly.\", {\"entities\": [(4, 7, \"ANIMAL\")]}),\n",
    "    (\"That horse looks strong.\", {\"entities\": [(5, 10, \"ANIMAL\")]}),\n",
    "    (\"An elephant is smart.\", {\"entities\": [(3, 11, \"ANIMAL\")]}),\n",
    "    (\"Butterflies are pretty.\", {\"entities\": [(0, 10, \"ANIMAL\")]}),\n",
    "    (\"The chicken laid an egg.\", {\"entities\": [(4, 11, \"ANIMAL\")]}),\n",
    "    (\"A cat jumped on the table.\", {\"entities\": [(2, 5, \"ANIMAL\")]}),\n",
    "    (\"Cows live on farms.\", {\"entities\": [(0, 4, \"ANIMAL\")]}),\n",
    "    (\"Sheep sleep in the barn.\", {\"entities\": [(0, 5, \"ANIMAL\")]}),\n",
    "    (\"Spiders build webs.\", {\"entities\": [(0, 7, \"ANIMAL\")]}),\n",
    "    (\"A horse is shown in the image.\", {\"entities\": [(2, 7, \"ANIMAL\")]}),\n",
    "    (\"The elephant is depicted here.\", {\"entities\": [(4, 12, \"ANIMAL\")]}),\n",
    "    (\"You can see a butterfly.\", {\"entities\": [(14, 23, \"ANIMAL\")]}),\n",
    "    (\"This image contains a chicken.\", {\"entities\": [(21, 28, \"ANIMAL\")]}),\n",
    "    (\"Here we have a cat.\", {\"entities\": [(15, 18, \"ANIMAL\")]}),\n",
    "    (\"A cow is visible in the picture.\", {\"entities\": [(2, 5, \"ANIMAL\")]}),\n",
    "    (\"Look at the sheep in this photo.\", {\"entities\": [(11, 16, \"ANIMAL\")]}),\n",
    "    (\"The spider is featured here.\", {\"entities\": [(4, 10, \"ANIMAL\")]}),\n",
    "    (\"This picture has a squirrel.\", {\"entities\": [(20, 28, \"ANIMAL\")]}),\n",
    "    (\"The dog is playing in the yard.\", {\"entities\": [(4, 7, \"ANIMAL\")]}),\n",
    "    (\"A horse can run very fast.\", {\"entities\": [(2, 7, \"ANIMAL\")]}),\n",
    "    (\"The elephant has large ears.\", {\"entities\": [(4, 12, \"ANIMAL\")]}),\n",
    "    (\"Butterflies are colorful insects.\", {\"entities\": [(0, 10, \"ANIMAL\")]}),\n",
    "    (\"Chickens lay eggs daily.\", {\"entities\": [(0, 8, \"ANIMAL\")]}),\n",
    "    (\"My cat loves to sleep on the couch.\", {\"entities\": [(3, 6, \"ANIMAL\")]}),\n",
    "    (\"The cow is grazing in the field.\", {\"entities\": [(4, 7, \"ANIMAL\")]}),\n",
    "    (\"Sheep have thick wool.\", {\"entities\": [(0, 5, \"ANIMAL\")]}),\n",
    "    (\"A spider spun a web in the corner.\", {\"entities\": [(2, 8, \"ANIMAL\")]}),\n",
    "    (\"Squirrels collect nuts for winter.\", {\"entities\": [(0, 9, \"ANIMAL\")]}),\n",
    "    (\"There is a dog in this photo.\", {\"entities\": [(11, 14, \"ANIMAL\")]}),\n",
    "    (\"An elephant is visible in the picture.\", {\"entities\": [(3, 11, \"ANIMAL\")]}),\n",
    "    (\"A beautiful butterfly is shown here.\", {\"entities\": [(12, 21, \"ANIMAL\")]}),\n",
    "    (\"The chicken is standing near the fence.\", {\"entities\": [(4, 11, \"ANIMAL\")]}),\n",
    "    (\"A small cat is playing with a toy.\", {\"entities\": [(8, 11, \"ANIMAL\")]}),\n",
    "    (\"I can see a cow in the distance.\", {\"entities\": [(12, 15, \"ANIMAL\")]}),\n",
    "    (\"That sheep looks very fluffy!\", {\"entities\": [(5, 10, \"ANIMAL\")]}),\n",
    "    (\"A tiny spider is crawling on the wall.\", {\"entities\": [(7, 13, \"ANIMAL\")]}),\n",
    "    (\"Squirrels are quick and agile.\", {\"entities\": [(0, 9, \"ANIMAL\")]}),\n",
    "    (\"This drawing includes a horse.\", {\"entities\": [(23, 28, \"ANIMAL\")]}),\n",
    "    (\"The squirrel is climbing the tree.\", {\"entities\": [(4, 12, \"ANIMAL\")]}),\n",
    "\n",
    "    # More empty examples\n",
    "    (\"This is a beautiful day.\", {\"entities\": []}),\n",
    "    (\"The book is on the table.\", {\"entities\": []}),\n",
    "    (\"Can you hand me that pen?\", {\"entities\": []}),\n",
    "    (\"She enjoys painting landscapes.\", {\"entities\": []}),\n",
    "    (\"The sun is shining brightly.\", {\"entities\": []}),\n",
    "    (\"I had coffee this morning.\", {\"entities\": []}),\n",
    "    (\"This painting is wonderful.\", {\"entities\": []}),\n",
    "    (\"The laptop is on the desk.\", {\"entities\": []}),\n",
    "    (\"We had a great time at the park.\", {\"entities\": []}),\n",
    "    (\"Music makes everything better.\", {\"entities\": []}),\n",
    "]\n"
   ]
  },
  {
   "cell_type": "code",
   "execution_count": 112,
   "metadata": {},
   "outputs": [],
   "source": [
    "# nlp = spacy.load('en_core_web_trf')"
   ]
  },
  {
   "cell_type": "code",
   "execution_count": 3,
   "metadata": {},
   "outputs": [
    {
     "name": "stderr",
     "output_type": "stream",
     "text": [
      "c:\\Users\\Omen\\AppData\\Local\\Programs\\Python\\Python311\\Lib\\site-packages\\tqdm\\auto.py:21: TqdmWarning: IProgress not found. Please update jupyter and ipywidgets. See https://ipywidgets.readthedocs.io/en/stable/user_install.html\n",
      "  from .autonotebook import tqdm as notebook_tqdm\n"
     ]
    }
   ],
   "source": [
    "nlp = spacy.blank('en')"
   ]
  },
  {
   "cell_type": "code",
   "execution_count": null,
   "metadata": {},
   "outputs": [],
   "source": [
    "lookups = Lookups()\n",
    "lookups.add_table(\"lexeme_norm\", {})  # Empty table if needed\n",
    "nlp.vocab.lookups = lookups"
   ]
  },
  {
   "cell_type": "code",
   "execution_count": 5,
   "metadata": {},
   "outputs": [],
   "source": [
    "if 'ner' not in nlp.pipe_names:\n",
    "  ner = nlp.add_pipe('ner', last=True)\n",
    "else:\n",
    "  ner = nlp.get_pipe('ner')"
   ]
  },
  {
   "cell_type": "code",
   "execution_count": 6,
   "metadata": {},
   "outputs": [],
   "source": [
    "for _, annotations in train_data:\n",
    "  for ent in annotations['entities']:\n",
    "    if ent[2] not in ner.labels:\n",
    "      ner.add_label(ent[2])"
   ]
  },
  {
   "cell_type": "code",
   "execution_count": 7,
   "metadata": {},
   "outputs": [],
   "source": [
    "other_pipes = [pipe for pipe in nlp.pipe_names if pipe != 'ner']"
   ]
  },
  {
   "cell_type": "code",
   "execution_count": 8,
   "metadata": {},
   "outputs": [
    {
     "name": "stdout",
     "output_type": "stream",
     "text": [
      "Available Tables: ['lexeme_norm']\n"
     ]
    }
   ],
   "source": [
    "print(\"Available Tables:\", lookups.tables)"
   ]
  },
  {
   "cell_type": "code",
   "execution_count": 9,
   "metadata": {},
   "outputs": [
    {
     "name": "stderr",
     "output_type": "stream",
     "text": [
      "c:\\Users\\Omen\\AppData\\Local\\Programs\\Python\\Python311\\Lib\\site-packages\\spacy\\training\\iob_utils.py:149: UserWarning: [W030] Some entities could not be aligned in the text \"Look at the deer in this photo.\" with entities \"[(11, 15, 'ANIMAL')]\". Use `spacy.training.offsets_to_biluo_tags(nlp.make_doc(text), entities)` to check the alignment. Misaligned entities ('-') will be ignored during training.\n",
      "  warnings.warn(\n",
      "c:\\Users\\Omen\\AppData\\Local\\Programs\\Python\\Python311\\Lib\\site-packages\\spacy\\training\\iob_utils.py:149: UserWarning: [W030] Some entities could not be aligned in the text \"A drawing of a chicken is shown here.\" with entities \"[(13, 20, 'ANIMAL')]\". Use `spacy.training.offsets_to_biluo_tags(nlp.make_doc(text), entities)` to check the alignment. Misaligned entities ('-') will be ignored during training.\n",
      "  warnings.warn(\n",
      "c:\\Users\\Omen\\AppData\\Local\\Programs\\Python\\Python311\\Lib\\site-packages\\spacy\\training\\iob_utils.py:149: UserWarning: [W030] Some entities could not be aligned in the text \"Look at the sheep in this photo.\" with entities \"[(11, 16, 'ANIMAL')]\". Use `spacy.training.offsets_to_biluo_tags(nlp.make_doc(text), entities)` to check the alignment. Misaligned entities ('-') will be ignored during training.\n",
      "  warnings.warn(\n",
      "c:\\Users\\Omen\\AppData\\Local\\Programs\\Python\\Python311\\Lib\\site-packages\\spacy\\training\\iob_utils.py:149: UserWarning: [W030] Some entities could not be aligned in the text \"There is an elephant drawn in this artwork.\" with entities \"[(11, 19, 'ANIMAL')]\". Use `spacy.training.offsets_to_biluo_tags(nlp.make_doc(text), entities)` to check the alignment. Misaligned entities ('-') will be ignored during training.\n",
      "  warnings.warn(\n",
      "c:\\Users\\Omen\\AppData\\Local\\Programs\\Python\\Python311\\Lib\\site-packages\\spacy\\training\\iob_utils.py:149: UserWarning: [W030] Some entities could not be aligned in the text \"This is an owl.\" with entities \"[(10, 13, 'ANIMAL')]\". Use `spacy.training.offsets_to_biluo_tags(nlp.make_doc(text), entities)` to check the alignment. Misaligned entities ('-') will be ignored during training.\n",
      "  warnings.warn(\n",
      "c:\\Users\\Omen\\AppData\\Local\\Programs\\Python\\Python311\\Lib\\site-packages\\spacy\\training\\iob_utils.py:149: UserWarning: [W030] Some entities could not be aligned in the text \"Butterflies are pretty.\" with entities \"[(0, 10, 'ANIMAL')]\". Use `spacy.training.offsets_to_biluo_tags(nlp.make_doc(text), entities)` to check the alignment. Misaligned entities ('-') will be ignored during training.\n",
      "  warnings.warn(\n",
      "c:\\Users\\Omen\\AppData\\Local\\Programs\\Python\\Python311\\Lib\\site-packages\\spacy\\training\\iob_utils.py:149: UserWarning: [W030] Some entities could not be aligned in the text \"This picture has a peacock.\" with entities \"[(20, 27, 'ANIMAL')]\". Use `spacy.training.offsets_to_biluo_tags(nlp.make_doc(text), entities)` to check the alignment. Misaligned entities ('-') will be ignored during training.\n",
      "  warnings.warn(\n",
      "c:\\Users\\Omen\\AppData\\Local\\Programs\\Python\\Python311\\Lib\\site-packages\\spacy\\training\\iob_utils.py:149: UserWarning: [W030] Some entities could not be aligned in the text \"This photo depicts a kangaroo.\" with entities \"[(20, 27, 'ANIMAL')]\". Use `spacy.training.offsets_to_biluo_tags(nlp.make_doc(text), entities)` to check the alignment. Misaligned entities ('-') will be ignored during training.\n",
      "  warnings.warn(\n",
      "c:\\Users\\Omen\\AppData\\Local\\Programs\\Python\\Python311\\Lib\\site-packages\\spacy\\training\\iob_utils.py:149: UserWarning: [W030] Some entities could not be aligned in the text \"Butterflies are colorful insects.\" with entities \"[(0, 10, 'ANIMAL')]\". Use `spacy.training.offsets_to_biluo_tags(nlp.make_doc(text), entities)` to check the alignment. Misaligned entities ('-') will be ignored during training.\n",
      "  warnings.warn(\n",
      "c:\\Users\\Omen\\AppData\\Local\\Programs\\Python\\Python311\\Lib\\site-packages\\spacy\\training\\iob_utils.py:149: UserWarning: [W030] Some entities could not be aligned in the text \"A kangaroo is shown in the illustration.\" with entities \"[(2, 9, 'ANIMAL')]\". Use `spacy.training.offsets_to_biluo_tags(nlp.make_doc(text), entities)` to check the alignment. Misaligned entities ('-') will be ignored during training.\n",
      "  warnings.warn(\n",
      "c:\\Users\\Omen\\AppData\\Local\\Programs\\Python\\Python311\\Lib\\site-packages\\spacy\\training\\iob_utils.py:149: UserWarning: [W030] Some entities could not be aligned in the text \"There is an owl shown in this image.\" with entities \"[(11, 14, 'ANIMAL')]\". Use `spacy.training.offsets_to_biluo_tags(nlp.make_doc(text), entities)` to check the alignment. Misaligned entities ('-') will be ignored during training.\n",
      "  warnings.warn(\n",
      "c:\\Users\\Omen\\AppData\\Local\\Programs\\Python\\Python311\\Lib\\site-packages\\spacy\\training\\iob_utils.py:149: UserWarning: [W030] Some entities could not be aligned in the text \"This image contains a chicken.\" with entities \"[(21, 28, 'ANIMAL')]\". Use `spacy.training.offsets_to_biluo_tags(nlp.make_doc(text), entities)` to check the alignment. Misaligned entities ('-') will be ignored during training.\n",
      "  warnings.warn(\n",
      "c:\\Users\\Omen\\AppData\\Local\\Programs\\Python\\Python311\\Lib\\site-packages\\spacy\\training\\iob_utils.py:149: UserWarning: [W030] Some entities could not be aligned in the text \"An image features a chicken.\" with entities \"[(19, 26, 'ANIMAL')]\". Use `spacy.training.offsets_to_biluo_tags(nlp.make_doc(text), entities)` to check the alignment. Misaligned entities ('-') will be ignored during training.\n",
      "  warnings.warn(\n",
      "c:\\Users\\Omen\\AppData\\Local\\Programs\\Python\\Python311\\Lib\\site-packages\\spacy\\training\\iob_utils.py:149: UserWarning: [W030] Some entities could not be aligned in the text \"This drawing includes a horse.\" with entities \"[(23, 28, 'ANIMAL')]\". Use `spacy.training.offsets_to_biluo_tags(nlp.make_doc(text), entities)` to check the alignment. Misaligned entities ('-') will be ignored during training.\n",
      "  warnings.warn(\n",
      "c:\\Users\\Omen\\AppData\\Local\\Programs\\Python\\Python311\\Lib\\site-packages\\spacy\\training\\iob_utils.py:149: UserWarning: [W030] Some entities could not be aligned in the text \"There is a kangaroo shown in this image.\" with entities \"[(11, 18, 'ANIMAL')]\". Use `spacy.training.offsets_to_biluo_tags(nlp.make_doc(text), entities)` to check the alignment. Misaligned entities ('-') will be ignored during training.\n",
      "  warnings.warn(\n",
      "c:\\Users\\Omen\\AppData\\Local\\Programs\\Python\\Python311\\Lib\\site-packages\\spacy\\training\\iob_utils.py:149: UserWarning: [W030] Some entities could not be aligned in the text \"This picture has a squirrel.\" with entities \"[(20, 28, 'ANIMAL')]\". Use `spacy.training.offsets_to_biluo_tags(nlp.make_doc(text), entities)` to check the alignment. Misaligned entities ('-') will be ignored during training.\n",
      "  warnings.warn(\n",
      "c:\\Users\\Omen\\AppData\\Local\\Programs\\Python\\Python311\\Lib\\site-packages\\spacy\\training\\iob_utils.py:149: UserWarning: [W030] Some entities could not be aligned in the text \"This image contains a bear.\" with entities \"[(21, 25, 'ANIMAL')]\". Use `spacy.training.offsets_to_biluo_tags(nlp.make_doc(text), entities)` to check the alignment. Misaligned entities ('-') will be ignored during training.\n",
      "  warnings.warn(\n"
     ]
    },
    {
     "name": "stdout",
     "output_type": "stream",
     "text": [
      "Epoch 1, Losses: {'ner': 206.72296367455067}\n",
      "Epoch 2, Losses: {'ner': 28.275380237832515}\n",
      "Epoch 3, Losses: {'ner': 8.3895280385421}\n",
      "Epoch 4, Losses: {'ner': 11.425028627331464}\n",
      "Epoch 5, Losses: {'ner': 4.987665536133682}\n",
      "Epoch 6, Losses: {'ner': 1.4677432535747856}\n",
      "Epoch 7, Losses: {'ner': 4.697581185354908}\n",
      "Epoch 8, Losses: {'ner': 0.016868846560724713}\n",
      "Epoch 9, Losses: {'ner': 0.48652715083631654}\n",
      "Epoch 10, Losses: {'ner': 4.611945724253342e-05}\n",
      "Epoch 11, Losses: {'ner': 6.352710889462802e-06}\n",
      "Epoch 12, Losses: {'ner': 0.001761603886658813}\n",
      "Epoch 13, Losses: {'ner': 0.10676102805624908}\n",
      "Epoch 14, Losses: {'ner': 1.825012504550723}\n",
      "Epoch 15, Losses: {'ner': 0.7685083603570306}\n",
      "Epoch 16, Losses: {'ner': 5.47971564814183}\n",
      "Epoch 17, Losses: {'ner': 1.893233224423525}\n",
      "Epoch 18, Losses: {'ner': 0.023803976259868173}\n",
      "Epoch 19, Losses: {'ner': 2.2394884422042467}\n",
      "Epoch 20, Losses: {'ner': 2.310161184229701e-05}\n",
      "Epoch 21, Losses: {'ner': 2.1713994504496332}\n",
      "Epoch 22, Losses: {'ner': 1.8754052834097974}\n",
      "Epoch 23, Losses: {'ner': 0.0004374182358597601}\n",
      "Epoch 24, Losses: {'ner': 8.999365156777196e-09}\n",
      "Epoch 25, Losses: {'ner': 0.014823760664303862}\n",
      "Epoch 26, Losses: {'ner': 1.5890522463646286e-05}\n",
      "Epoch 27, Losses: {'ner': 2.2969333102186996e-06}\n",
      "Epoch 28, Losses: {'ner': 6.632630852761654e-07}\n",
      "Epoch 29, Losses: {'ner': 0.008961617898436294}\n",
      "Epoch 30, Losses: {'ner': 1.9922947905930726}\n",
      "Epoch 31, Losses: {'ner': 5.410479102322845e-05}\n",
      "Epoch 32, Losses: {'ner': 0.0015836632600723783}\n",
      "Epoch 33, Losses: {'ner': 0.6462356943453623}\n",
      "Epoch 34, Losses: {'ner': 6.363209744780786e-07}\n",
      "Epoch 35, Losses: {'ner': 1.99397061684511}\n",
      "Epoch 36, Losses: {'ner': 0.040051437040626955}\n",
      "Epoch 37, Losses: {'ner': 3.705253038314861e-07}\n",
      "Epoch 38, Losses: {'ner': 0.03181869792018225}\n",
      "Epoch 39, Losses: {'ner': 0.41196275435395063}\n",
      "Epoch 40, Losses: {'ner': 4.150863495018407}\n",
      "Epoch 41, Losses: {'ner': 1.9992288413321262}\n",
      "Epoch 42, Losses: {'ner': 2.0093117663072584}\n",
      "Epoch 43, Losses: {'ner': 0.2877921654532631}\n",
      "Epoch 44, Losses: {'ner': 2.9479765297117657}\n",
      "Epoch 45, Losses: {'ner': 4.6733806369676504e-05}\n",
      "Epoch 46, Losses: {'ner': 0.0011081554341831187}\n",
      "Epoch 47, Losses: {'ner': 3.263301365580424}\n",
      "Epoch 48, Losses: {'ner': 0.000161317449039651}\n",
      "Epoch 49, Losses: {'ner': 2.007665312200741e-06}\n",
      "Epoch 50, Losses: {'ner': 1.5278337168164043e-08}\n",
      "Epoch 51, Losses: {'ner': 0.004017255532737793}\n",
      "Epoch 52, Losses: {'ner': 1.0843907148228049e-05}\n",
      "Epoch 53, Losses: {'ner': 4.482614399261056e-15}\n",
      "Epoch 54, Losses: {'ner': 1.29824413148746e-10}\n",
      "Epoch 55, Losses: {'ner': 5.943165132898869e-10}\n",
      "Epoch 56, Losses: {'ner': 1.9077148437500124}\n",
      "Epoch 57, Losses: {'ner': 1.4686796261954899e-05}\n",
      "Epoch 58, Losses: {'ner': 7.472261290397846e-10}\n",
      "Epoch 59, Losses: {'ner': 4.539016226225642e-17}\n",
      "Epoch 60, Losses: {'ner': 1.2756205440644804e-12}\n",
      "Epoch 61, Losses: {'ner': 1.8553975141974462e-08}\n",
      "Epoch 62, Losses: {'ner': 2.711536892964233e-06}\n",
      "Epoch 63, Losses: {'ner': 4.268656184354512e-08}\n",
      "Epoch 64, Losses: {'ner': 1.6822488657411323e-15}\n",
      "Epoch 65, Losses: {'ner': 8.342486515212821e-16}\n",
      "Epoch 66, Losses: {'ner': 1.956381129438379e-06}\n",
      "Epoch 67, Losses: {'ner': 1.821262357133744e-15}\n",
      "Epoch 68, Losses: {'ner': 1.7159345588879677e-05}\n",
      "Epoch 69, Losses: {'ner': 1.0701663897987487e-11}\n",
      "Epoch 70, Losses: {'ner': 1.8806172619179068e-08}\n",
      "Epoch 71, Losses: {'ner': 0.0003010343061760068}\n",
      "Epoch 72, Losses: {'ner': 1.999999761581421}\n",
      "Epoch 73, Losses: {'ner': 2.007589249445374}\n",
      "Epoch 74, Losses: {'ner': 0.002034918870776897}\n",
      "Epoch 75, Losses: {'ner': 1.976506787571028e-06}\n",
      "Epoch 76, Losses: {'ner': 9.243334279290082e-17}\n",
      "Epoch 77, Losses: {'ner': 1.1995598398362113e-09}\n",
      "Epoch 78, Losses: {'ner': 5.546627233573618e-15}\n",
      "Epoch 79, Losses: {'ner': 9.317896619747728e-11}\n",
      "Epoch 80, Losses: {'ner': 6.179910382422508e-12}\n",
      "Epoch 81, Losses: {'ner': 1.3004846262525237e-16}\n",
      "Epoch 82, Losses: {'ner': 1.128127540804595e-09}\n",
      "Epoch 83, Losses: {'ner': 2.3217685176465264e-11}\n",
      "Epoch 84, Losses: {'ner': 1.0852026740880344e-14}\n",
      "Epoch 85, Losses: {'ner': 1.5513999820143797e-06}\n",
      "Epoch 86, Losses: {'ner': 1.1163909794985462e-12}\n",
      "Epoch 87, Losses: {'ner': 1.2316413022476783e-15}\n",
      "Epoch 88, Losses: {'ner': 9.99591076580182e-10}\n",
      "Epoch 89, Losses: {'ner': 2.793026096252783e-17}\n",
      "Epoch 90, Losses: {'ner': 2.0494048611923236e-13}\n",
      "Epoch 91, Losses: {'ner': 2.1869321646845782e-07}\n",
      "Epoch 92, Losses: {'ner': 2.8526618658390834e-08}\n",
      "Epoch 93, Losses: {'ner': 6.757406030427558e-15}\n",
      "Epoch 94, Losses: {'ner': 1.4780664755872753e-10}\n",
      "Epoch 95, Losses: {'ner': 1.31894299902199e-18}\n",
      "Epoch 96, Losses: {'ner': 1.3947167950698565e-15}\n",
      "Epoch 97, Losses: {'ner': 2.07737087978977e-07}\n",
      "Epoch 98, Losses: {'ner': 9.734941536044909e-19}\n",
      "Epoch 99, Losses: {'ner': 1.051953097551766e-12}\n",
      "Epoch 100, Losses: {'ner': 2.08580597238532e-09}\n"
     ]
    }
   ],
   "source": [
    "with nlp.disable_pipes(*other_pipes):\n",
    "  optimizer = nlp.begin_training()\n",
    "  epochs = 100\n",
    "  for epoch in range(epochs):\n",
    "    random.shuffle(train_data)\n",
    "    losses = {}\n",
    "    batches = minibatch(train_data, size=2)\n",
    "    for batch in batches:\n",
    "      examples = []\n",
    "      for text, annotations in batch:\n",
    "        doc = nlp.make_doc(text)\n",
    "        example = Example.from_dict(doc, annotations)\n",
    "        examples.append(example)\n",
    "      nlp.update(examples, drop=0.3, losses=losses)\n",
    "    print(f\"Epoch {epoch + 1}, Losses: {losses}\")\n",
    "  \n",
    "  "
   ]
  },
  {
   "cell_type": "code",
   "execution_count": 10,
   "metadata": {},
   "outputs": [],
   "source": [
    "nlp.to_disk('../models/custom_ner_model')"
   ]
  },
  {
   "cell_type": "code",
   "execution_count": 11,
   "metadata": {},
   "outputs": [],
   "source": [
    "trained_nlp = spacy.load('../models/custom_ner_model')"
   ]
  },
  {
   "cell_type": "code",
   "execution_count": 12,
   "metadata": {},
   "outputs": [],
   "source": [
    "test_texts = [\n",
    "  'The cat looks nice',\n",
    "  'The image contains dog',\n",
    "]"
   ]
  },
  {
   "cell_type": "code",
   "execution_count": 13,
   "metadata": {},
   "outputs": [
    {
     "name": "stdout",
     "output_type": "stream",
     "text": [
      "Text The cat looks nice\n",
      "Entities [('cat', 'ANIMAL')]\n",
      "Text The image contains dog\n",
      "Entities [('dog', 'ANIMAL')]\n"
     ]
    }
   ],
   "source": [
    "for text in test_texts:\n",
    "  doc = trained_nlp(text)\n",
    "  print(f'Text {text}')\n",
    "  print('Entities', [(ent.text, ent.label_) for ent in doc.ents])"
   ]
  },
  {
   "cell_type": "code",
   "execution_count": 14,
   "metadata": {},
   "outputs": [
    {
     "name": "stdout",
     "output_type": "stream",
     "text": [
      "Entities [('owl', 'ANIMAL')]\n",
      "Entities [('cat', 'ANIMAL')]\n",
      "Entities [('cat', 'ANIMAL')]\n",
      "Entities []\n",
      "Entities []\n"
     ]
    }
   ],
   "source": [
    "text = \"\"\n",
    "while text != \"-\":\n",
    "  text = input('> ')\n",
    "  doc = trained_nlp(text)\n",
    "  print('Entities', [(ent.text, ent.label_) for ent in doc.ents])"
   ]
  }
 ],
 "metadata": {
  "kernelspec": {
   "display_name": "Python 3",
   "language": "python",
   "name": "python3"
  },
  "language_info": {
   "codemirror_mode": {
    "name": "ipython",
    "version": 3
   },
   "file_extension": ".py",
   "mimetype": "text/x-python",
   "name": "python",
   "nbconvert_exporter": "python",
   "pygments_lexer": "ipython3",
   "version": "3.11.3"
  }
 },
 "nbformat": 4,
 "nbformat_minor": 2
}
